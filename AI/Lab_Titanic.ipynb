{
 "cells": [
  {
   "attachments": {},
   "cell_type": "markdown",
   "metadata": {},
   "source": [
    "# Titanic Disaster: Survivability Parameters\n",
    "\n",
    "* [Problem Statement](#problem-statement)"
   ]
  },
  {
   "attachments": {},
   "cell_type": "markdown",
   "metadata": {},
   "source": [
    "## Problem Statement\n",
    "\n",
    "* Using data analysis methods, predict which metric or combination of metrics best predict passenger survivability.\n",
    "* A combination of data visualizations and statistics will be used to determine the most significant predictors of survivability."
   ]
  },
  {
   "cell_type": "markdown",
   "metadata": {},
   "source": [
    "### Dataset Description ([data/titanic.csv](data/titanic.csv))\n",
    "\n",
    "| Variable     | Definition                          | Key                                      |\n",
    "|--------------|-------------------------------------|------------------------------------------|\n",
    "| PassengerId  | Passenger ID                        | NA                                       |\n",
    "| Survival     | Survival                            | 0 = No, 1 = Yes                          |\n",
    "| Pclass       | Ticket class                        | 1 = 1st, 2 = 2nd, 3 = 3rd                |\n",
    "| Name         | Passenger name                      | NA                                       |\n",
    "| Sex          | Sex                                 | NA                                       |\n",
    "| Age          | Age in years                        | NA                                       |\n",
    "| SibSp        | # of siblings / spouses aboard the Titanic | NA                                |\n",
    "| Parch        | # of parents / children aboard the Titanic | NA                                |\n",
    "| Ticket       | Ticket number                       | NA                                       |\n",
    "| Fare         | Passenger fare                      | NA                                       |\n",
    "| Cabin        | Cabin number                        | NA                                       |\n",
    "| Embarked     | Port of Embarkation                 | C = Cherbourg, Q = Queenstown, S = Southampton |\n"
   ]
  }
 ],
 "metadata": {
  "kernelspec": {
   "display_name": "Python 3",
   "language": "python",
   "name": "python3"
  },
  "language_info": {
   "codemirror_mode": {
    "name": "ipython",
    "version": 3
   },
   "file_extension": ".py",
   "mimetype": "text/x-python",
   "name": "python",
   "nbconvert_exporter": "python",
   "pygments_lexer": "ipython3",
   "version": "3.12.1"
  }
 },
 "nbformat": 4,
 "nbformat_minor": 0
}
