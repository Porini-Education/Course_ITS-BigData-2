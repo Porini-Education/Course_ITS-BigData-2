{
 "cells": [
  {
   "cell_type": "markdown",
   "metadata": {},
   "source": [
    "# Review Classi"
   ]
  },
  {
   "cell_type": "code",
   "execution_count": 8,
   "metadata": {},
   "outputs": [],
   "source": [
    "class NomeClasse: #Le classi usano le maiuscole (per convenzione)\n",
    "    def __init__(self): #costruttore\n",
    "        pass\n",
    "\n",
    "    def funzione(self):\n",
    "        return \"Ciao\""
   ]
  },
  {
   "cell_type": "code",
   "execution_count": 9,
   "metadata": {},
   "outputs": [],
   "source": [
    "nc = NomeClasse()"
   ]
  },
  {
   "cell_type": "code",
   "execution_count": 10,
   "metadata": {},
   "outputs": [],
   "source": [
    "class DataHandler:\n",
    "    \"\"\"\n",
    "    A class to handle file opening\n",
    "    \"\"\"\n",
    "    def __init__(self, file_path):\n",
    "        \"\"\"\n",
    "        Initialize instance of DataHandler\n",
    "        Parameters:\n",
    "        - file_path: path of file to open\n",
    "        \"\"\"\n",
    "        self.file_path = file_path\n",
    "        self.rows = []\n",
    "    "
   ]
  },
  {
   "cell_type": "code",
   "execution_count": 11,
   "metadata": {},
   "outputs": [
    {
     "name": "stdout",
     "output_type": "stream",
     "text": [
      "data.csv\n",
      "mio_file.csv\n"
     ]
    }
   ],
   "source": [
    "dh = DataHandler('data.csv')\n",
    "dh1 = DataHandler('mio_file.csv')\n",
    "\n",
    "print(dh.file_path)\n",
    "print(dh1.file_path)"
   ]
  },
  {
   "cell_type": "code",
   "execution_count": 12,
   "metadata": {},
   "outputs": [],
   "source": [
    "\n",
    "import pandas as pd\n",
    "\n",
    "class DataRow:\n",
    "    def __init__(self, data_dict:dict):\n",
    "        for key, value in data_dict.items():\n",
    "            setattr(self, key, value)\n",
    "\n",
    "class DataHandler:\n",
    "    \"\"\"\n",
    "    A class to handle file opening\n",
    "    \"\"\"\n",
    "    def __init__(self, file_path):\n",
    "        \"\"\"\n",
    "        Initialize instance of DataHandler\n",
    "        Parameters:\n",
    "        - file_path: path of file to open\n",
    "        \"\"\"\n",
    "        self.file_path = file_path\n",
    "        self.rows = []\n",
    "        self.load_data() # chiamato nel costruttore - rimuovere per necessitare una chiamata esplicita\n",
    "    \n",
    "    def load_data(self):\n",
    "        df = pd.read_csv(self.file_path)\n",
    "        for index, row in df.iterrows():\n",
    "            self.rows.append(DataRow(row.to_dict()))\n",
    "\n",
    "    \n",
    "    def filter_data(self, column:str, value) -> list:\n",
    "        '''Filter the DataRows based on the column and value\n",
    "        Parameters\n",
    "        ----------\n",
    "        column : str\n",
    "            The column to filter on.\n",
    "        value : str\n",
    "            The value to filter on.\n",
    "        Returns\n",
    "        -------\n",
    "        list\n",
    "            The filtered DataRows\n",
    "        '''\n",
    "        return [data_row for data_row in self.rows if getattr(data_row, column) == value]\n",
    "    "
   ]
  },
  {
   "cell_type": "code",
   "execution_count": null,
   "metadata": {},
   "outputs": [],
   "source": [
    "DataHandler('').filter_data('col', 0) #ctrl+shift+space to get intellisense"
   ]
  },
  {
   "cell_type": "markdown",
   "metadata": {},
   "source": [
    "***Esercizio***\n",
    "\n",
    "Sfruttare le classi per generalizzare l'importazione di dati e la creazione di grafici"
   ]
  },
  {
   "cell_type": "code",
   "execution_count": null,
   "metadata": {},
   "outputs": [],
   "source": [
    "#Sfruttare le classi per generalizzare l'importazione di dati e la creazione di grafici\n",
    "#Creare una classe per ogni tipo di file da importare: csv, json, connessione diretta a SQL\n",
    "from abc import abstractmethod\n",
    "\n",
    "class DataHandler:\n",
    "    df: pd.DataFrame\n",
    "    def __init__(self, path:str) -> None:\n",
    "        self.path = path\n",
    "        self.load_data()\n",
    "    \n",
    "    @abstractmethod\n",
    "    def load_data(self) -> None:\n",
    "        pass\n",
    "\n",
    "class CSVDataHandler(DataHandler):\n",
    "    def load_data(self) -> None:\n",
    "        self.df = pd.read_csv(self.path)\n",
    "\n",
    "class JSONDataHandler(DataHandler):\n",
    "    def load_data(self) -> None:\n",
    "        self.df = pd.read_json(self.path)\n",
    "\n",
    "class SQLiteDataHandler(DataHandler):\n",
    "    def __init__(self, path: str, sql_stmt : str) -> None:\n",
    "        self.sql_stmt = sql_stmt\n",
    "        super().__init__(path)        \n",
    "\n",
    "    def load_data(self) -> None:\n",
    "        import sqlite3\n",
    "        #create connection to sql\n",
    "        connection = sqlite3.connect(self.path)\n",
    "        self.df = pd.read_sql(self.sql_stmt, connection)\n",
    "\n",
    "\n",
    "#Creare una classe per ogni tipo di grafico da creare\n",
    "#ovviamente queste classi sono molto semplici, ma possono essere estese per includere funzionalità più complesse come filtri, parametri per la scelta di colonne, ecc.\n",
    "class Chart:\n",
    "    def __init__(self, data_handler: DataHandler) -> None:\n",
    "        self.data_handler = data_handler\n",
    "        self.data = data_handler.df\n",
    "\n",
    "    @abstractmethod\n",
    "    def plot(self):\n",
    "        pass\n",
    "\n",
    "class BarChart(Chart):\n",
    "    def plot(self):\n",
    "        self.data.plot.bar()\n",
    "\n",
    "class LineChart(Chart):\n",
    "    def plot(self):\n",
    "        self.data.plot.line()\n",
    "\n",
    "#Creare una classe per ogni tipo di analisi da eseguire\n",
    "class Analysis:\n",
    "    def __init__(self, data_handler: DataHandler) -> None:\n",
    "        self.data_handler = data_handler\n",
    "        self.data = data_handler.df\n",
    "\n",
    "    @abstractmethod\n",
    "    def analyze(self):\n",
    "        pass\n",
    "\n",
    "class MeanAnalysis(Analysis):\n",
    "    def analyze(self):\n",
    "        return self.data.mean()\n",
    "    \n",
    "class MedianAnalysis(Analysis):\n",
    "    def analyze(self):\n",
    "        return self.data.median()\n",
    "    \n",
    "class ModeAnalysis(Analysis):\n",
    "    def analyze(self):\n",
    "        return self.data.mode()"
   ]
  },
  {
   "cell_type": "code",
   "execution_count": null,
   "metadata": {},
   "outputs": [],
   "source": [
    "# put it all together\n",
    "dh = CSVDataHandler('data.csv')\n",
    "dh1 = JSONDataHandler('data.json')\n",
    "dh2 = SQLiteDataHandler('data.db', 'SELECT * FROM data')\n",
    "\n",
    "# analyse\n",
    "ma = MeanAnalysis(dh)\n",
    "print(ma.analyze())\n",
    "ma1 = MeanAnalysis(dh1)\n",
    "print(ma1.analyze())\n",
    "ma2 = MeanAnalysis(dh2)\n",
    "print(ma2.analyze())\n",
    "\n",
    "# plot\n",
    "bc = BarChart(dh)\n",
    "bc.plot()\n",
    "bc1 = BarChart(dh1)\n",
    "bc1.plot()\n",
    "bc2 = BarChart(dh2)\n",
    "bc2.plot()\n"
   ]
  }
 ],
 "metadata": {
  "kernelspec": {
   "display_name": "Python 3",
   "language": "python",
   "name": "python3"
  },
  "language_info": {
   "codemirror_mode": {
    "name": "ipython",
    "version": 3
   },
   "file_extension": ".py",
   "mimetype": "text/x-python",
   "name": "python",
   "nbconvert_exporter": "python",
   "pygments_lexer": "ipython3",
   "version": "3.11.7"
  }
 },
 "nbformat": 4,
 "nbformat_minor": 2
}
