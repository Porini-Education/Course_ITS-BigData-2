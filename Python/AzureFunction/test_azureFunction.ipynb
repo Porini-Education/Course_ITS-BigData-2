{
 "cells": [
  {
   "cell_type": "markdown",
   "metadata": {},
   "source": [
    "### Proviamo a interrogare la Azure Function"
   ]
  },
  {
   "cell_type": "code",
   "execution_count": 7,
   "metadata": {},
   "outputs": [],
   "source": [
    "import requests\n",
    "# import json\n",
    "\n",
    "azurefunction_url = \"https://matbes-its-01.azurewebsites.net/api/HttpTrigger1?code=TN77RrsMrf7V8ZfyXo4cjUpVN1Bjx9DJj5MuQdMOddcPAzFuOvdA_Q==\"\n",
    "azurefunction_input = {\"name\" : \"pippo\"}\n",
    "\n",
    "r = requests.get(url = azurefunction_url, params = azurefunction_input)\n",
    "r.status_code"
   ]
  },
  {
   "cell_type": "code",
   "execution_count": 9,
   "metadata": {},
   "outputs": [
    {
     "data": {
      "text/plain": [
       "'Hello, pippo. This HTTP triggered function executed successfully.'"
      ]
     },
     "execution_count": 9,
     "metadata": {},
     "output_type": "execute_result"
    }
   ],
   "source": [
    "r.text"
   ]
  },
  {
   "cell_type": "code",
   "execution_count": 3,
   "metadata": {},
   "outputs": [
    {
     "name": "stdout",
     "output_type": "stream",
     "text": [
      "2003-12-01 00:00:00\n"
     ]
    },
    {
     "data": {
      "text/plain": [
       "19.0"
      ]
     },
     "execution_count": 3,
     "metadata": {},
     "output_type": "execute_result"
    }
   ],
   "source": [
    "def computeAge(birthdate_str):\n",
    "    from datetime import datetime\n",
    "    birthdate = datetime.strptime(birthdate_str, '%Y-%m-%d')\n",
    "    today = datetime.now()\n",
    "    age = today - birthdate\n",
    "    return age.days // 365.25\n",
    "\n",
    "computeAge(\"2003-12-01\")"
   ]
  }
 ],
 "metadata": {
  "kernelspec": {
   "display_name": "base",
   "language": "python",
   "name": "python3"
  },
  "language_info": {
   "codemirror_mode": {
    "name": "ipython",
    "version": 3
   },
   "file_extension": ".py",
   "mimetype": "text/x-python",
   "name": "python",
   "nbconvert_exporter": "python",
   "pygments_lexer": "ipython3",
   "version": "3.9.13"
  }
 },
 "nbformat": 4,
 "nbformat_minor": 2
}
